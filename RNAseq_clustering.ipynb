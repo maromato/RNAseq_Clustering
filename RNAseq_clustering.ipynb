{
 "cells": [
  {
   "cell_type": "markdown",
   "metadata": {
    "collapsed": true
   },
   "source": [
    "Importing Libraries"
   ]
  },
  {
   "cell_type": "code",
   "execution_count": 23,
   "metadata": {
    "collapsed": true
   },
   "outputs": [],
   "source": [
    "%matplotlib inline\n",
    "from sklearn.cluster import AffinityPropagation, KMeans, DBSCAN, SpectralClustering\n",
    "from sklearn.manifold import MDS, TSNE, Isomap\n",
    "from sklearn.metrics import silhouette_score\n",
    "\n",
    "import numpy as np\n",
    "import matplotlib.pyplot as plt\n",
    "import pandas as pd\n",
    "from scipy.linalg import logm, expm"
   ]
  },
  {
   "cell_type": "markdown",
   "metadata": {},
   "source": [
    "Change working directly and check the files"
   ]
  },
  {
   "cell_type": "code",
   "execution_count": 24,
   "metadata": {},
   "outputs": [
    {
     "data": {
      "text/plain": [
       "['.DS_Store',\n",
       " '.Rapp.history',\n",
       " '.RData',\n",
       " '.Rhistory',\n",
       " '20161110.docx',\n",
       " '20161110.R',\n",
       " '20161110_2.R',\n",
       " 'edgeR_tagwise_001_output.txt',\n",
       " 'edgeR_tagwise_05_output.txt',\n",
       " 'edgeR_tagwise_1e_06_output.txt',\n",
       " 'Est_Dispersions_Plot.pdf',\n",
       " 'NT_low_high_all.csv',\n",
       " 'NT_low_high_day1.csv',\n",
       " 'NT_TX_day3.csv',\n",
       " 'NT_TX_day3.txt',\n",
       " 'NT_TX_day3_counts.csv',\n",
       " 'NT_TX_day3_counts.txt',\n",
       " 'Smear_Plot.pdf',\n",
       " 'TNBC10vNormal10_count_2.csv',\n",
       " 'TNBC10vNormal10_count_2.txt',\n",
       " 'TNBC10vNormal10_Counts_2.csv',\n",
       " 'TNBC10vNormal10_Counts_3.csv',\n",
       " 'TNBC10vNormal10_Counts_4.csv',\n",
       " 'TNBC10vNormal10_cpm_2.csv',\n",
       " 'TNBC10vNormal10_cpm_2.txt',\n",
       " 'TNBC10vNormal10_Raw_2.txt']"
      ]
     },
     "execution_count": 24,
     "metadata": {},
     "output_type": "execute_result"
    }
   ],
   "source": [
    "import os\n",
    "\n",
    "os.chdir(\"/Users/toshihikooki/Documents/20161110_R\")\n",
    "\n",
    "cwd = os.getcwd()\n",
    "\n",
    "os.listdir(cwd)"
   ]
  },
  {
   "cell_type": "code",
   "execution_count": 33,
   "metadata": {},
   "outputs": [
    {
     "name": "stdout",
     "output_type": "stream",
     "text": [
      "     0            1            2            3            4            5   \\\n",
      "0  Gene        TNBC1        TNBC2        TNBC3        TNBC4        TNBC5   \n",
      "1   NA4  12.41899146  7.435149585  3.261578821  19.93036137  7.273773256   \n",
      "2   NA5  74.65835566  50.34215865  88.54227211  91.70479123  66.15440577   \n",
      "3   NA7  6.570512925  5.537637452  54.55150459  12.98850186  6.647554367   \n",
      "4  NA20   70.6390309  98.96106648  6.459205116  11.57500105  87.36556355   \n",
      "\n",
      "            6            7            8            9      ...       \\\n",
      "0        TNBC6        TNBC7        TNBC8        TNBC9     ...        \n",
      "1  7.055225336  17.68349188  17.09683532  13.76116324     ...        \n",
      "2  63.94478675  93.17069463  80.24171772  87.70600304     ...        \n",
      "3  3.763593618  2.531416449  11.26593717  3.326090285     ...        \n",
      "4  191.2050777   19.9417339  45.53450008  16.20219946     ...        \n",
      "\n",
      "            11           12           13           14           15  \\\n",
      "0      Normal1      Normal2      Normal3      Normal4      Normal5   \n",
      "1  3.684826644  3.276343715   2.61695965  3.448677757  2.663658983   \n",
      "2  45.79288595  37.51135897  30.59490468  40.06170778  48.41481574   \n",
      "3  10.25213865  5.719718688  10.35022244  7.415953673   6.79045459   \n",
      "4  11.38135971  38.59421833  30.91834913  37.96138524  8.910126879   \n",
      "\n",
      "            16           17           18           19           20  \n",
      "0      Normal6      Normal7      Normal8      Normal9     Normal10  \n",
      "1  3.598112681  3.358507923  3.150031311  4.526280886  4.718495574  \n",
      "2   25.3188296  37.48290959  34.25383698  39.23502133  41.50630119  \n",
      "3   15.9439305  8.555615074  7.511613126  7.007030986  5.925552582  \n",
      "4  40.60255594   29.0498678  15.77218474  7.333445473  44.00271454  \n",
      "\n",
      "[5 rows x 21 columns]\n",
      "[['12.41899146' '74.65835566' '6.570512925' ... '52.99732404'\n",
      "  '59.95292197' '0.361017194']\n",
      " ['7.435149585' '50.34215865' '5.537637452' ... '51.05856629'\n",
      "  '50.53578234' '10.16524357']\n",
      " ['3.261578821' '88.54227211' '54.55150459' ... '28.81061292'\n",
      "  '27.49958614' '76.74303108']\n",
      " ...\n",
      " ['3.150031311' '34.25383698' '7.511613126' ... '68.33144843'\n",
      "  '59.58625661' '13.65747841']\n",
      " ['4.526280886' '39.23502133' '7.007030986' ... '58.68932475'\n",
      "  '36.7107493' '14.84097867']\n",
      " ['4.718495574' '41.50630119' '5.925552582' ... '107.6475386'\n",
      "  '39.36651831' '18.6819505']]\n",
      "1        TNBC1\n",
      "2        TNBC2\n",
      "3        TNBC3\n",
      "4        TNBC4\n",
      "5        TNBC5\n",
      "6        TNBC6\n",
      "7        TNBC7\n",
      "8        TNBC8\n",
      "9        TNBC9\n",
      "10      TNBC10\n",
      "11     Normal1\n",
      "12     Normal2\n",
      "13     Normal3\n",
      "14     Normal4\n",
      "15     Normal5\n",
      "16     Normal6\n",
      "17     Normal7\n",
      "18     Normal8\n",
      "19     Normal9\n",
      "20    Normal10\n",
      "Name: 0, dtype: object\n"
     ]
    }
   ],
   "source": [
    "df_wine = pd.read_csv(\"TNBC10vNormal10_cpm_2.csv\", sep=\",\", header=None)\n",
    "print(df_wine.head())\n",
    "df_wine_2 = df_wine.T\n",
    "df_wine_2 = pd.DataFrame(df_wine_2)\n",
    "#print(df_wine_2)\n",
    "\n",
    "X,Y = df_wine_2.iloc[1:, 1:].values, df_wine.iloc[0,1:]\n",
    "\n",
    "print(X)\n",
    "print(Y)"
   ]
  },
  {
   "cell_type": "code",
   "execution_count": 34,
   "metadata": {
    "collapsed": true
   },
   "outputs": [],
   "source": [
    "# Use multi-dimensional scaling (MDS) to get a 2-D plane representation of the data, so that we can plot it.\n",
    "mds = MDS()\n",
    "mds_coords = mds.fit_transform(X)"
   ]
  },
  {
   "cell_type": "code",
   "execution_count": 35,
   "metadata": {},
   "outputs": [
    {
     "data": {
      "text/plain": [
       "<matplotlib.collections.PathCollection at 0x11e15d2d0>"
      ]
     },
     "execution_count": 35,
     "metadata": {},
     "output_type": "execute_result"
    },
    {
     "data": {
      "image/png": "[encoded data removed]",
      "text/plain": [
       "<matplotlib.figure.Figure at 0x11f405150>"
      ]
     },
     "metadata": {},
     "output_type": "display_data"
    }
   ],
   "source": [
    "plt.scatter(mds_coords[:,0], mds_coords[:,1])"
   ]
  },
  {
   "cell_type": "code",
   "execution_count": 36,
   "metadata": {},
   "outputs": [
    {
     "data": {
      "text/plain": [
       "<matplotlib.collections.PathCollection at 0x11f3c8750>"
      ]
     },
     "execution_count": 36,
     "metadata": {},
     "output_type": "execute_result"
    },
    {
     "data": {
      "image/png": "[encoded data removed]",
      "text/plain": [
       "<matplotlib.figure.Figure at 0x12346cb10>"
      ]
     },
     "metadata": {},
     "output_type": "display_data"
    }
   ],
   "source": [
    "# Colour the clusters by cluster number, then plot on MDS plot.\n",
    "\n",
    "pre_cluster_lables = np.array([0,0,0,0,0,0,0,0,0,0,1,1,1,1,1,1,1,1,1,1,])\n",
    "                            \n",
    "#pre_cluster_lables\n",
    "\n",
    "cmap = plt.cm.get_cmap('prism', len(pre_cluster_lables))\n",
    "\n",
    "plt.scatter(mds_coords[:,0], mds_coords[:,1], c=pre_cluster_lables, cmap=cmap)"
   ]
  },
  {
   "cell_type": "code",
   "execution_count": 37,
   "metadata": {},
   "outputs": [
    {
     "data": {
      "text/plain": [
       "array([3, 0, 1, 3, 2, 5, 3, 3, 3, 4, 5, 6, 5, 6, 5, 5, 5, 5, 5, 6])"
      ]
     },
     "execution_count": 37,
     "metadata": {},
     "output_type": "execute_result"
    }
   ],
   "source": [
    "ap = AffinityPropagation()\n",
    "ap_cluster_labels = ap.fit_predict(X)  # gets the cluster labels.\n",
    "ap_cluster_labels"
   ]
  },
  {
   "cell_type": "code",
   "execution_count": 38,
   "metadata": {},
   "outputs": [
    {
     "data": {
      "text/plain": [
       "<matplotlib.collections.PathCollection at 0x11de1c6d0>"
      ]
     },
     "execution_count": 38,
     "metadata": {},
     "output_type": "execute_result"
    },
    {
     "data": {
      "image/png": "[encoded data removed]",
      "text/plain": [
       "<matplotlib.figure.Figure at 0x11f3cd650>"
      ]
     },
     "metadata": {},
     "output_type": "display_data"
    }
   ],
   "source": [
    "# Colour the clusters by cluster number, then plot on MDS plot.\n",
    "len(ap_cluster_labels)\n",
    "\n",
    "cmap = plt.cm.get_cmap('prism', len(ap_cluster_labels))\n",
    "\n",
    "plt.scatter(mds_coords[:,0], mds_coords[:,1], c=ap_cluster_labels, cmap=cmap)"
   ]
  },
  {
   "cell_type": "code",
   "execution_count": 39,
   "metadata": {},
   "outputs": [
    {
     "data": {
      "text/plain": [
       "0.17021902491149263"
      ]
     },
     "execution_count": 39,
     "metadata": {},
     "output_type": "execute_result"
    }
   ],
   "source": [
    "#Evaluating clustering results\n",
    "#One metric for evaluating clustering results, which is provided by the scikit-learn API, is the silhouette_score.\n",
    "#. The score can take on values between -1 and 1, with -1 being the worst, and +1 being the best scores. 0 indicates overlapping clusters.\n",
    "#Chalkboard example: three blobs\n",
    "silhouette_score(X, ap_cluster_labels)"
   ]
  },
  {
   "cell_type": "code",
   "execution_count": 40,
   "metadata": {},
   "outputs": [
    {
     "data": {
      "text/plain": [
       "array([0, 0, 0, 0, 1, 0, 0, 0, 0, 0, 0, 1, 0, 1, 1, 0, 1, 0, 0, 1],\n",
       "      dtype=int32)"
      ]
     },
     "execution_count": 40,
     "metadata": {},
     "output_type": "execute_result"
    }
   ],
   "source": [
    "km = KMeans(n_clusters=2)\n",
    "km_cluster_labels = km.fit_predict(X)\n",
    "km_cluster_labels"
   ]
  },
  {
   "cell_type": "code",
   "execution_count": 41,
   "metadata": {},
   "outputs": [
    {
     "data": {
      "text/plain": [
       "<matplotlib.collections.PathCollection at 0x12350f410>"
      ]
     },
     "execution_count": 41,
     "metadata": {},
     "output_type": "execute_result"
    },
    {
     "data": {
      "image/png": "[encoded data removed]",
      "text/plain": [
       "<matplotlib.figure.Figure at 0x11f3f2350>"
      ]
     },
     "metadata": {},
     "output_type": "display_data"
    }
   ],
   "source": [
    "cmap = plt.cm.get_cmap('prism', len(km_cluster_labels))\n",
    "\n",
    "plt.scatter(mds_coords[:,0], mds_coords[:,1], c=km_cluster_labels, cmap=cmap)"
   ]
  },
  {
   "cell_type": "code",
   "execution_count": 42,
   "metadata": {},
   "outputs": [
    {
     "data": {
      "text/plain": [
       "0.20300026871531576"
      ]
     },
     "execution_count": 42,
     "metadata": {},
     "output_type": "execute_result"
    }
   ],
   "source": [
    "silhouette_score(X, km_cluster_labels)"
   ]
  },
  {
   "cell_type": "code",
   "execution_count": 43,
   "metadata": {},
   "outputs": [
    {
     "data": {
      "text/plain": [
       "array([0, 6, 1, 1, 0], dtype=int32)"
      ]
     },
     "execution_count": 43,
     "metadata": {},
     "output_type": "execute_result"
    }
   ],
   "source": [
    "spc = SpectralClustering()\n",
    "spc_cluster_labels = spc.fit_predict(X)\n",
    "spc_cluster_labels[0:5]"
   ]
  },
  {
   "cell_type": "code",
   "execution_count": 44,
   "metadata": {},
   "outputs": [
    {
     "data": {
      "text/plain": [
       "<matplotlib.collections.PathCollection at 0x11dee9150>"
      ]
     },
     "execution_count": 44,
     "metadata": {},
     "output_type": "execute_result"
    },
    {
     "data": {
      "image/png": "[encoded data removed]",
      "text/plain": [
       "<matplotlib.figure.Figure at 0x1234f6a90>"
      ]
     },
     "metadata": {},
     "output_type": "display_data"
    }
   ],
   "source": [
    "cmap = plt.cm.get_cmap('prism', len(spc_cluster_labels))\n",
    "\n",
    "plt.scatter(mds_coords[:,0], mds_coords[:,1], c=spc_cluster_labels, cmap=cmap)"
   ]
  },
  {
   "cell_type": "code",
   "execution_count": 45,
   "metadata": {},
   "outputs": [
    {
     "data": {
      "text/plain": [
       "-0.24387860848170448"
      ]
     },
     "execution_count": 45,
     "metadata": {},
     "output_type": "execute_result"
    }
   ],
   "source": [
    "silhouette_score(X, spc_cluster_labels)"
   ]
  },
  {
   "cell_type": "code",
   "execution_count": 46,
   "metadata": {
    "collapsed": true
   },
   "outputs": [],
   "source": [
    "ISO = Isomap()\n",
    "ISO_coords = ISO.fit_transform(X)"
   ]
  },
  {
   "cell_type": "code",
   "execution_count": 47,
   "metadata": {},
   "outputs": [
    {
     "data": {
      "text/plain": [
       "<matplotlib.collections.PathCollection at 0x11e565cd0>"
      ]
     },
     "execution_count": 47,
     "metadata": {},
     "output_type": "execute_result"
    },
    {
     "data": {
      "image/png": "[encoded data removed]",
      "text/plain": [
       "<matplotlib.figure.Figure at 0x11efbfe10>"
      ]
     },
     "metadata": {},
     "output_type": "display_data"
    }
   ],
   "source": [
    "plt.scatter(ISO_coords[:,0], ISO_coords[:,1])"
   ]
  },
  {
   "cell_type": "code",
   "execution_count": 48,
   "metadata": {},
   "outputs": [
    {
     "data": {
      "text/plain": [
       "<matplotlib.collections.PathCollection at 0x11dec4a10>"
      ]
     },
     "execution_count": 48,
     "metadata": {},
     "output_type": "execute_result"
    },
    {
     "data": {
      "image/png": "[encoded data removed]",
      "text/plain": [
       "<matplotlib.figure.Figure at 0x11f3fc390>"
      ]
     },
     "metadata": {},
     "output_type": "display_data"
    }
   ],
   "source": [
    "cmap = plt.cm.get_cmap('prism', len(ap_cluster_labels))\n",
    "\n",
    "plt.scatter(ISO_coords[:,0], ISO_coords[:,1], c=ap_cluster_labels, cmap=cmap)"
   ]
  },
  {
   "cell_type": "code",
   "execution_count": 49,
   "metadata": {},
   "outputs": [
    {
     "data": {
      "text/plain": [
       "<matplotlib.collections.PathCollection at 0x1267f29d0>"
      ]
     },
     "execution_count": 49,
     "metadata": {},
     "output_type": "execute_result"
    },
    {
     "data": {
      "image/png": "[encoded data removed]",
      "text/plain": [
       "<matplotlib.figure.Figure at 0x11dea9890>"
      ]
     },
     "metadata": {},
     "output_type": "display_data"
    }
   ],
   "source": [
    "# Colour the clusters by cluster number, then plot on MDS plot.\n",
    "\n",
    "pre_cluster_lables = np.array([1,1,1,1,1,1,1,1,1,1,0,0,0,0,0,0,0,0,0,0])\n",
    "                            \n",
    "#pre_cluster_lables\n",
    "\n",
    "cmap = plt.cm.get_cmap('prism', len(pre_cluster_lables))\n",
    "\n",
    "\n",
    "#cmap = plt.cm.get_cmap('gnuplot2', len(ap_cluster_labels))\n",
    "\n",
    "plt.scatter(ISO_coords[:,0], ISO_coords[:,1], c=pre_cluster_lables, cmap=cmap)"
   ]
  },
  {
   "cell_type": "code",
   "execution_count": 52,
   "metadata": {},
   "outputs": [
    {
     "data": {
      "text/plain": [
       "<matplotlib.collections.PathCollection at 0x1103ee610>"
      ]
     },
     "execution_count": 52,
     "metadata": {},
     "output_type": "execute_result"
    },
    {
     "data": {
      "image/png": "[encoded data removed]",
      "text/plain": [
       "<matplotlib.figure.Figure at 0x110451810>"
      ]
     },
     "metadata": {},
     "output_type": "display_data"
    }
   ],
   "source": [
    "cmap = plt.cm.get_cmap('prism', len(km_cluster_labels))\n",
    "\n",
    "plt.scatter(ISO_coords[:,0], ISO_coords[:,1], c=km_cluster_labels, cmap=cmap)"
   ]
  },
  {
   "cell_type": "code",
   "execution_count": 53,
   "metadata": {},
   "outputs": [
    {
     "data": {
      "text/plain": [
       "<matplotlib.collections.PathCollection at 0x12366ded0>"
      ]
     },
     "execution_count": 53,
     "metadata": {},
     "output_type": "execute_result"
    },
    {
     "data": {
      "image/png": "[encoded data removed]",
      "text/plain": [
       "<matplotlib.figure.Figure at 0x11e23f650>"
      ]
     },
     "metadata": {},
     "output_type": "display_data"
    }
   ],
   "source": [
    "cmap = plt.cm.get_cmap('prism', len(spc_cluster_labels))\n",
    "\n",
    "plt.scatter(ISO_coords[:,0], ISO_coords[:,1], c=spc_cluster_labels, cmap=cmap)"
   ]
  },
  {
   "cell_type": "code",
   "execution_count": null,
   "metadata": {
    "collapsed": true
   },
   "outputs": [],
   "source": []
  },
  {
   "cell_type": "code",
   "execution_count": null,
   "metadata": {
    "collapsed": true
   },
   "outputs": [],
   "source": []
  }
 ],
 "metadata": {
  "kernelspec": {
   "display_name": "Python 2",
   "language": "python",
   "name": "python2"
  },
  "language_info": {
   "codemirror_mode": {
    "name": "ipython",
    "version": 2
   },
   "file_extension": ".py",
   "mimetype": "text/x-python",
   "name": "python",
   "nbconvert_exporter": "python",
   "pygments_lexer": "ipython2",
   "version": "2.7.13"
  }
 },
 "nbformat": 4,
 "nbformat_minor": 2
}
